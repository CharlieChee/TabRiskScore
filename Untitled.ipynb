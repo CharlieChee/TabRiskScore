{
 "cells": [
  {
   "cell_type": "code",
   "execution_count": 1,
   "id": "d9808b33-13a0-471a-882d-9955d733898a",
   "metadata": {},
   "outputs": [],
   "source": [
    "import numpy as np"
   ]
  },
  {
   "cell_type": "code",
   "execution_count": 2,
   "id": "66bc9a45-4e59-4327-a150-c30148bf73b5",
   "metadata": {},
   "outputs": [],
   "source": [
    "ind = np.load('data/adult/1000_indices.pickle',allow_pickle=True)"
   ]
  },
  {
   "cell_type": "code",
   "execution_count": 9,
   "id": "b3c544af-5767-4055-a35e-f0fb3d5b3f16",
   "metadata": {},
   "outputs": [
    {
     "data": {
      "text/plain": [
       "30000"
      ]
     },
     "execution_count": 9,
     "metadata": {},
     "output_type": "execute_result"
    }
   ],
   "source": [
    "len(ind[1])"
   ]
  },
  {
   "cell_type": "code",
   "execution_count": 8,
   "id": "72a98be5-20b2-4f2a-9e6d-deb94f51c2d6",
   "metadata": {},
   "outputs": [
    {
     "data": {
      "text/plain": [
       "1000"
      ]
     },
     "execution_count": 8,
     "metadata": {},
     "output_type": "execute_result"
    }
   ],
   "source": [
    "len(ind[0])"
   ]
  },
  {
   "cell_type": "code",
   "execution_count": null,
   "id": "9f34d699-b380-4c92-977d-d3e5e1ae3f5c",
   "metadata": {},
   "outputs": [],
   "source": []
  }
 ],
 "metadata": {
  "kernelspec": {
   "display_name": "lnb: Python (lnb)",
   "language": "python",
   "name": "lnb"
  },
  "language_info": {
   "codemirror_mode": {
    "name": "ipython",
    "version": 3
   },
   "file_extension": ".py",
   "mimetype": "text/x-python",
   "name": "python",
   "nbconvert_exporter": "python",
   "pygments_lexer": "ipython3",
   "version": "3.9.23"
  }
 },
 "nbformat": 4,
 "nbformat_minor": 5
}
